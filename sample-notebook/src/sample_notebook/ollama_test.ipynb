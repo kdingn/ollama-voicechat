{
 "cells": [
  {
   "cell_type": "code",
   "execution_count": 4,
   "id": "501a3c47-f959-43ce-a784-bec41a0531b6",
   "metadata": {},
   "outputs": [],
   "source": [
    "import json\n",
    "import sys\n",
    "import requests"
   ]
  },
  {
   "cell_type": "code",
   "execution_count": 2,
   "id": "3f00ec32-7a29-4184-9c45-6b3a621683ce",
   "metadata": {},
   "outputs": [],
   "source": [
    "endpoint = \"http://localhost:11434/api/chat\""
   ]
  },
  {
   "cell_type": "code",
   "execution_count": 3,
   "id": "ec0a2ea5-a6b3-49f6-9011-5c915842c749",
   "metadata": {},
   "outputs": [],
   "source": [
    "system_prompt = \"\"\"\n",
    "あなたは優秀なAIです。次のことを守って回答してください。\n",
    "* 質問者はIT技術者\n",
    "* 丁寧な言葉遣い\n",
    "* 丁寧過ぎない言葉遣い\n",
    "* 前向きな言葉\n",
    "* わかる、察する、把握した旨は含めない\n",
    "* いいですね、など中身のない同意から始めない\n",
    "* 手伝いできることはあるか聞かない\n",
    "* 質問内容を確認しない\n",
    "* 繰り返さない\n",
    "* なるべく質問しない\n",
    "* 困っている場合は何かおすすめする\n",
    "* 説明を追加する\n",
    "* 自然な会話文\n",
    "* 箇条書きしない\n",
    "* 特殊文字を使用しない\n",
    "* 扱えない話題はない\n",
    "\"\"\""
   ]
  },
  {
   "cell_type": "code",
   "execution_count": 8,
   "id": "1de053c4-736e-4fad-8da1-582e7c3ba88e",
   "metadata": {},
   "outputs": [
    {
     "name": "stdout",
     "output_type": "stream",
     "text": [
      "はい、知っていますよ。\n",
      "1970年に大阪で開かれた万国博覧会ですね。\n",
      "展示物やイベントの数々、賑わった様子を映像で見るのも面白いと思います。\n",
      "そういえば、浦島太郎の物語がテーマの一つになっていたようですね。"
     ]
    }
   ],
   "source": [
    "def stream_chat_with_ollama(model_name, user_message):\n",
    "    headers = {\"Content-Type\": \"application/json\"}\n",
    "    payload = {\n",
    "        \"model\": model_name,\n",
    "        \"messages\": [{\"role\": \"system\", \"content\": system_prompt}, {\"role\": \"user\", \"content\": user_message}],\n",
    "        \"stream\": True,\n",
    "    }\n",
    "\n",
    "    # ストリーミングリクエストを送信\n",
    "    with requests.post(endpoint, json=payload, headers=headers, stream=True) as response:\n",
    "        if response.status_code == 200:\n",
    "            for chunk in response.iter_lines(decode_unicode=True):\n",
    "                if chunk:\n",
    "                    try:\n",
    "                        # JSONデータとしてデコード\n",
    "                        data = json.loads(chunk)\n",
    "                        # メッセージ内容を抽出して表示\n",
    "                        content = data.get(\"message\", {}).get(\"content\", \"\")\n",
    "                        if content:\n",
    "                            sys.stdout.write(content)\n",
    "                            sys.stdout.flush()\n",
    "                    except json.JSONDecodeError as e:\n",
    "                        print(f\"JSON Decode Error: {e}\")\n",
    "        else:\n",
    "            print(f\"Error: {response.status_code}, {response.text}\")\n",
    "\n",
    "# 実行例\n",
    "model_name = \"gemma3\"\n",
    "user_message = \"大阪万博ってしってますか？\"\n",
    "stream_chat_with_ollama(model_name, user_message)"
   ]
  },
  {
   "cell_type": "code",
   "execution_count": null,
   "id": "af492410-d491-4ef4-ae37-bde92bc3a9a3",
   "metadata": {},
   "outputs": [],
   "source": []
  },
  {
   "cell_type": "code",
   "execution_count": null,
   "id": "05415e94-1a06-47d5-b200-fa9d1ea88062",
   "metadata": {},
   "outputs": [],
   "source": []
  }
 ],
 "metadata": {
  "kernelspec": {
   "display_name": "Python 3 (ipykernel)",
   "language": "python",
   "name": "python3"
  },
  "language_info": {
   "codemirror_mode": {
    "name": "ipython",
    "version": 3
   },
   "file_extension": ".py",
   "mimetype": "text/x-python",
   "name": "python",
   "nbconvert_exporter": "python",
   "pygments_lexer": "ipython3",
   "version": "3.12.7"
  }
 },
 "nbformat": 4,
 "nbformat_minor": 5
}
