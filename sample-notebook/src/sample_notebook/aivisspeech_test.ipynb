{
 "cells": [
  {
   "cell_type": "code",
   "execution_count": null,
   "id": "9df02462",
   "metadata": {},
   "outputs": [],
   "source": [
    "import json\n",
    "import requests\n",
    "from IPython.display import Audio"
   ]
  },
  {
   "cell_type": "code",
   "execution_count": null,
   "id": "e275b199",
   "metadata": {},
   "outputs": [],
   "source": [
    "endpoint = \"http://localhost:10101\""
   ]
  },
  {
   "cell_type": "code",
   "execution_count": null,
   "id": "9887336d",
   "metadata": {},
   "outputs": [],
   "source": [
    "def create_voice_wav(text):\n",
    "    # get style id\n",
    "    endpoint_speakers = endpoint + \"/speakers\"\n",
    "    res = requests.get(endpoint_speakers)\n",
    "    speakers = json.loads(res.content)\n",
    "    style_id = speakers[0][\"styles\"][3][\"id\"]\n",
    "\n",
    "    # get audio query\n",
    "    endpoint_audioquery = endpoint + \"/audio_query\"\n",
    "    params = {\"speaker\": style_id, \"text\": text}\n",
    "    res = requests.post(endpoint_audioquery, params=params)\n",
    "    audioquery_json = json.loads(res.content)\n",
    "\n",
    "    # create audio data\n",
    "    endpoint_synthesis = endpoint + \"/synthesis\"\n",
    "    params = {\"speaker\": style_id}\n",
    "    res = requests.post(endpoint_synthesis, params=params, json=audioquery_json)\n",
    "\n",
    "    return res.content"
   ]
  },
  {
   "cell_type": "code",
   "execution_count": null,
   "id": "884e7539",
   "metadata": {},
   "outputs": [],
   "source": [
    "waiting_audio = create_voice_wav(\"ご質問ありがとうございます！少々お待ちください。\")\n",
    "Audio(waiting_audio)"
   ]
  },
  {
   "cell_type": "code",
   "execution_count": null,
   "id": "4a347d90",
   "metadata": {},
   "outputs": [],
   "source": []
  }
 ],
 "metadata": {
  "kernelspec": {
   "display_name": "Python 3 (ipykernel)",
   "language": "python",
   "name": "python3"
  },
  "language_info": {
   "codemirror_mode": {
    "name": "ipython",
    "version": 3
   },
   "file_extension": ".py",
   "mimetype": "text/x-python",
   "name": "python",
   "nbconvert_exporter": "python",
   "pygments_lexer": "ipython3",
   "version": "3.12.7"
  }
 },
 "nbformat": 4,
 "nbformat_minor": 5
}
